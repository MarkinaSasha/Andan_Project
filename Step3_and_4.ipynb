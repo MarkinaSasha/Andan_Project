{
 "cells": [
  {
   "cell_type": "code",
   "execution_count": null,
   "id": "7baf8735",
   "metadata": {
    "lines_to_next_cell": 2
   },
   "outputs": [],
   "source": [
    "import pandas as pd\n",
    "import matplotlib.pyplot as plt\n",
    "import numpy as np\n",
    "import seaborn as sns\n",
    "import warnings\n",
    "warnings.filterwarnings(\"ignore\")"
   ]
  },
  {
   "cell_type": "markdown",
   "id": "505e6294",
   "metadata": {},
   "source": [
    "надо совсместить спаршенные данные и исходные"
   ]
  },
  {
   "cell_type": "markdown",
   "id": "3539db2a",
   "metadata": {},
   "source": [
    "Какие признаки я взяла из исходного датасета: Название, Жанр, Платформа, Счет (оценка), Месяц и Год выпуска.\n",
    "Брала их по двум причинам:\n",
    "- В исходном датасете есть колонки: url, score_phrase и editors_choice,\n",
    "которые, как мне кажется, никак не обогащают датасет\n",
    "- Я не смогла понять, как и откуда с сайта IGN напарсить editors_choice, поэтому я просто не могу его добавить."
   ]
  },
  {
   "cell_type": "markdown",
   "id": "542e2c60",
   "metadata": {},
   "source": [
    "Я предпочла удалять строки с любым количеством пропусков, по двум причинам:\n",
    "- Если данные отсутствуют - это не обзор компьютерной игры, а фильма,\n",
    "  статьи или настольной игры (следовательно все такие варианты я сразу отсеила в рамках \"Фильтрации данных\")\n",
    "- В моем датасете ставить в пропуски средние значение - некорректно. Как можно поставить среднее из игровых платформ?\n",
    "  Или среднюю оценку игр? Цель моего исследования найти возможную взаимосвязь\n",
    "  между датой выхода, жанром, оценкой и платформой. Делать эти значения рандомными = \"средними\"\n",
    "  означает испортить выборку"
   ]
  },
  {
   "cell_type": "code",
   "execution_count": null,
   "id": "b8a92489",
   "metadata": {
    "lines_to_next_cell": 2
   },
   "outputs": [],
   "source": [
    "with open(\"../All_data_files/total_data_set.csv\", \"w\", encoding=\"utf-8\") as total:\n",
    "    with open(\"../All_data_files/try_more_data.csv\", \"r\", encoding=\"utf-8\") as ign:\n",
    "        df1 = pd.read_csv(ign)\n",
    "        df1 = df1.drop(np.where(df1['release_year'] == 2049)[0])\n",
    "        # убираем все строки, где год выпуска 2049.\n",
    "        # Это очевидный выброс, и он портит выборку\n",
    "        df1 = df1.drop_duplicates(keep=False, inplace=False)\n",
    "        df1.to_csv(total, encoding='utf-8', index=False)\n",
    "\n",
    "    with open(\"../All_data_files/ign.csv\", \"r\", encoding=\"utf-8\") as ign:\n",
    "        df2 = pd.read_csv(ign)\n",
    "        df2.drop(df2.columns[[0]], axis=1, inplace=True)\n",
    "        df2.drop(['score_phrase', 'url', 'editors_choice', 'release_day'], axis=1, inplace=True)\n",
    "        df2 = df2.drop_duplicates(keep=False, inplace=False) # это я пытаюсь убрать дубликаты\n",
    "        df2 = df2.dropna() # убираем нулевые строки (только тут, так как в моём датасете таких не нашлось)\n",
    "        df2.to_csv(total, encoding='utf-8', index=False)"
   ]
  },
  {
   "cell_type": "markdown",
   "id": "284e69ca",
   "metadata": {},
   "source": [
    "Далее просто проверяю, что файл открывается и читается без пропука строк.\n",
    "Когда я убежусь, что всё работает, приступлю к следующим шагам"
   ]
  },
  {
   "cell_type": "code",
   "execution_count": null,
   "id": "672b3b96",
   "metadata": {},
   "outputs": [],
   "source": [
    "with open(\"../All_data_files/total_data_set.csv\", \"r\", encoding=\"utf-8\") as total:\n",
    "    t = pd.read_csv(total)\n",
    "    print(sorted(t[\"release_year\"].unique()))\n",
    "    # отсюда выясняю, что моё исследование будет охватывать игры в период с 1994 по 2024 (год 1970 и 2049 учитываться\n",
    "    # не будут. Очевидно это выбросы\n",
    "    # далее я убрала все пропуски и повторения. Таким образом удалось убрать оставшиеся \"проскочившие\" фильмы и комиксы\n",
    "    print(t.isna().sum())\n",
    "    print(t.isnull().sum())\n",
    "    print(np.where(pd.isnull(t)))\n",
    "    print(t.info())"
   ]
  },
  {
   "cell_type": "markdown",
   "id": "a211f873",
   "metadata": {
    "lines_to_next_cell": 2
   },
   "source": [
    "Итого в моём датасете будет 21415 строк. Исходный датасет был обогащен на 6635 строк\n",
    "Ссылок получилось меньше (около 5к), так как у некоторых игр по несколько жанров - а значит и строк"
   ]
  },
  {
   "cell_type": "code",
   "execution_count": null,
   "id": "0fd7dd76",
   "metadata": {},
   "outputs": [],
   "source": [
    "df = pd.read_csv('../All_data_files/total_data_set.csv')\n",
    "print(df.isnull().sum())\n",
    "print(df)"
   ]
  },
  {
   "cell_type": "markdown",
   "id": "00ebd3d2",
   "metadata": {},
   "source": [
    "Моя объясняемая переменная - это score, итоговый балл, который получила игра."
   ]
  },
  {
   "cell_type": "markdown",
   "id": "eb0c544b",
   "metadata": {},
   "source": [
    "Объясняющие переменные - все остальные. Среди них:\n",
    "1) Категориальные: platform, genre, release_year, release_month\n",
    "2) Непрерывные: score (из новых: Game_genre_rate,Prop_of_genre_on_platf,Mean_score_per_genre)\n",
    "Для категориальных переменный я не делала бинаризацию признаков, потому что в каждой переменной у меня\n",
    "слишком много значений, будет странно разбивать один признак на 59 столбцов..."
   ]
  },
  {
   "cell_type": "code",
   "execution_count": null,
   "id": "42ffd451",
   "metadata": {},
   "outputs": [],
   "source": [
    "# Посмотрим, есть ли выбросы\n",
    "fig = df.hist()\n",
    "plt.show()"
   ]
  },
  {
   "cell_type": "markdown",
   "id": "ba509831",
   "metadata": {},
   "source": [
    "И да и нет. По исходным признакам выбросов нет, но этот пункт я доделывала после шага 5,\n",
    "когда я создала новые переменные. И они показали (в частности Prop_of_genre_on_platf), что выбросы есть\n",
    "Например, на некоторых платформах значение Prop_of_genre_on_platf = 1.0\n",
    "Это значит, что либо на этой платформе за все года выпускались игры только в одном жанре\n",
    "Либо, что более вероятно, в моей выборке слишком мало данных об этой платформе, поэтому надо убирать строки\n",
    "Со значением Prop_of_genre_on_platf = 1.0"
   ]
  },
  {
   "cell_type": "code",
   "execution_count": null,
   "id": "3ab546a6",
   "metadata": {
    "lines_to_next_cell": 2
   },
   "outputs": [],
   "source": [
    "indx = df[df[\"Prop_of_genre_on_platf\"] == 1.0].index\n",
    "df.drop(indx, inplace=True)\n",
    "df.to_csv('total_data_set.csv', index=False, encoding='utf-8')"
   ]
  },
  {
   "cell_type": "code",
   "execution_count": null,
   "id": "99e9d8b9",
   "metadata": {
    "lines_to_next_cell": 2
   },
   "outputs": [],
   "source": [
    "# Уберу выброс с 1970 годом\n",
    "indx = df[df['release_year'] == 1970].index\n",
    "df.drop(indx, inplace=True)\n",
    "df.to_csv('total_data_set.csv', index=False, encoding='utf-8')"
   ]
  },
  {
   "cell_type": "markdown",
   "id": "36634c4f",
   "metadata": {},
   "source": [
    "В ручном режиме убираю лишнюю строку с заголовками второго датасета\n",
    "Для начала посмотрим распределение оценки игры и ее жанра, платформы, месяца выпуска"
   ]
  },
  {
   "cell_type": "markdown",
   "id": "c75f0bfb",
   "metadata": {},
   "source": [
    "Итак, мне не понравилась мультижаноровость, которую я забыла убрать на предыдущих шагах.\n",
    "Поэтому буду убирать ее здесь. Я решила, что я прочешу файл, соберу все жанры, везде, где их два, сделаю один.\n",
    "После этого запихну всё в список, и сделаю новых стобец в датафрейме single_genre_table. После этого добавлю\n",
    "этот столбец в мой исходный датафрем вместо столбца genre.\n",
    "Я боюсь, что таким образом я очень нагружу комп, потому что хранить список из 25к значений звучит ужасно.\n",
    "Но я не придумала, как сделать лучше, буду признательна, если дадите коментарии по этому моменту."
   ]
  },
  {
   "cell_type": "code",
   "execution_count": null,
   "id": "624d98c2",
   "metadata": {
    "lines_to_next_cell": 2
   },
   "outputs": [],
   "source": [
    "with open(\"../All_data_files/total_data_set.csv\", 'r+', encoding='utf-8') as file:\n",
    "    df = pd.read_csv(file, engine='python')\n",
    "    print(df['genre'])\n",
    "    single_genre_table = pd.DataFrame()\n",
    "    safe_list = []\n",
    "    for i in df['genre']:\n",
    "        safe_list.append(i.split(\",\")[0])\n",
    "    single_genre_table['single_genre'] = safe_list\n",
    "    df['genre'] = single_genre_table['single_genre']\n",
    "    df.to_csv('total_data_set.csv', index=False, encoding='utf-8')"
   ]
  },
  {
   "cell_type": "markdown",
   "id": "eda370d9",
   "metadata": {
    "lines_to_next_cell": 2
   },
   "source": [
    "Я убрала мультижанровость, стало лучше, теперь мои графики выглядят не совсем как каша. Но... вам может показаться, что\n",
    "некоторые жанры игр нелепые, типа Number of players. Мне тоже так кажется, но я посмотрела, и такой реально есть,\n",
    "вот тут игры этого жанра: https://www.ign.com/games/feature/number-of-players.\n",
    "Поэтому, если какой-то жанр кажется не уместным, или не жанром вообще, то все вопросы не ко мне, а к IGN, которые\n",
    "выделили такие жанры..."
   ]
  },
  {
   "cell_type": "code",
   "execution_count": null,
   "id": "15da8992",
   "metadata": {},
   "outputs": [],
   "source": [
    "fig1 = sns.barplot(data=df, x='genre', y='score')\n",
    "plt.title(\"Распределение оценки жанра на всех платформах\")\n",
    "plt.show()"
   ]
  },
  {
   "cell_type": "code",
   "execution_count": null,
   "id": "115613de",
   "metadata": {},
   "outputs": [],
   "source": [
    "fig2 = sns.lineplot(data=df, y=\"genre\", x=\"score\")\n",
    "plt.title(\"Распределение оценки жанра на всех платформах\")\n",
    "plt.show()\n",
    "# если я правильно прочитала график, кажется, что оценки выше у\n",
    "# многопользовательских игр (обычно жанры Экшн, Спортивные, Шутеры и тд жанры для нескольких игроков).\n",
    "#\n",
    "fig3 = sns.barplot(data=df, x='platform', y='score')\n",
    "plt.title(\"Распределение оценки на платформе по всем жанрам\")\n",
    "plt.show()"
   ]
  },
  {
   "cell_type": "code",
   "execution_count": null,
   "id": "ac570e28",
   "metadata": {},
   "outputs": [],
   "source": [
    "fig4 = sns.barplot(data=df, x='release_month', y='score')\n",
    "plt.title(\"Распределение оценки по месяцам\")\n",
    "plt.show()\n",
    "#\n",
    "fig5 = sns.countplot(df['score'])\n",
    "plt.title(\"Распределение оценок\")\n",
    "plt.show()"
   ]
  },
  {
   "cell_type": "code",
   "execution_count": null,
   "id": "d68b36bf",
   "metadata": {},
   "outputs": [],
   "source": [
    "fig6 = sns.countplot(df['platform'])\n",
    "plt.title(\"Распределение платформ\")\n",
    "plt.show()"
   ]
  },
  {
   "cell_type": "code",
   "execution_count": null,
   "id": "80dae82b",
   "metadata": {},
   "outputs": [],
   "source": [
    "fig7 = sns.countplot(df['genre'])\n",
    "plt.title(\"Распределение жанров\")\n",
    "plt.show()"
   ]
  },
  {
   "cell_type": "code",
   "execution_count": null,
   "id": "ebfa8995",
   "metadata": {},
   "outputs": [],
   "source": [
    "fig8 = sns.countplot(df['release_month'])\n",
    "plt.title(\"Распределение месяцев\")\n",
    "plt.show()"
   ]
  },
  {
   "cell_type": "code",
   "execution_count": null,
   "id": "f947d59c",
   "metadata": {},
   "outputs": [],
   "source": [
    "ser = pd.Series(df['score'])\n",
    "ser = ser.replace('score', '')\n",
    "ser = pd.to_numeric(ser)\n",
    "fig9 = sns.boxplot(data=df, y=df['genre'], x=ser)\n",
    "plt.title(\"Распределение жанров\")\n",
    "plt.show()"
   ]
  },
  {
   "cell_type": "markdown",
   "id": "eb20ab56",
   "metadata": {},
   "source": [
    "вот этот график для меня самый важный пока что. Он структурирует все точки и показывает,\n",
    "где они концентрируются, то есть как раз примерно средняя оценка жанра. Экшн это и\n",
    "самый многочисленный жанр, и один и самых высокооцениваемых"
   ]
  },
  {
   "cell_type": "code",
   "execution_count": null,
   "id": "ea42a319",
   "metadata": {},
   "outputs": [],
   "source": [
    "# выглядит прикольно, как будто в последние годы стало меньше плохих оценок. Люди стали лояльнее?\n",
    "fig10 = sns.lineplot(data=df, y=\"release_year\", x=\"score\")\n",
    "plt.title(\"Распределение оценок по годам\")\n",
    "plt.show()"
   ]
  },
  {
   "cell_type": "code",
   "execution_count": null,
   "id": "8af5f7f5",
   "metadata": {},
   "outputs": [],
   "source": [
    "fig11 = sns.boxplot(data=df, y=df['release_month'], x=ser)\n",
    "plt.title(\"Распределение месяцев\")"
   ]
  },
  {
   "cell_type": "code",
   "execution_count": null,
   "id": "634e5b8d",
   "metadata": {},
   "outputs": [],
   "source": [
    "plt.show()\n",
    "# наиболее высокие оценки идут с 5 по 10 месяцы. Это с мая по октябрь. Лучшее время для выпуска игр)))"
   ]
  },
  {
   "cell_type": "code",
   "execution_count": null,
   "id": "71b48623",
   "metadata": {},
   "outputs": [],
   "source": [
    "fig12 = sns.lineplot(data=df, y=\"platform\", x=\"score\")\n",
    "plt.title(\"Распределение оценок относительно платформ\")\n",
    "plt.show()\n",
    "# на платформах с Meta Quest Pro до Nintendo 64 DD были замечены оценки от 10 до 7 - то есть самые предпочтительные.\n",
    "# Возможно самые лучшие платформы для релиза)"
   ]
  },
  {
   "cell_type": "code",
   "execution_count": null,
   "id": "349b0988",
   "metadata": {},
   "outputs": [],
   "source": [
    "ser1 = pd.Series(df['release_year'])\n",
    "ser1 = ser1.replace('release_year', '')\n",
    "ser1 = pd.to_numeric(ser1)\n",
    "fig13 = sns.boxplot(data=df, y=df['platform'], x=ser1)\n",
    "plt.title(\"Распределение платформ\")\n",
    "plt.show()\n",
    "# Вот тут прикольно, что игры, на платформах которых были наибольшие оценки - это всё более старые игры\n",
    "# до 2015 вроде"
   ]
  },
  {
   "cell_type": "code",
   "execution_count": null,
   "id": "d0e1ecdd",
   "metadata": {
    "lines_to_next_cell": 2
   },
   "outputs": [],
   "source": [
    "fig14 = sns.scatterplot(data=df, x=\"genre\", y=\"platform\")\n",
    "plt.title(\"Распределение жанров и платформ\")\n",
    "plt.show()"
   ]
  },
  {
   "cell_type": "code",
   "execution_count": null,
   "id": "1f87758a",
   "metadata": {
    "lines_to_next_cell": 2
   },
   "outputs": [],
   "source": [
    "sns.heatmap(df.corr(), annot=True, cmap=\"Spectral\")\n",
    "plt.title(\"Корреляция признаков\")\n",
    "plt.show()\n",
    "# никакой тесной корреляции не нашла. Только  с новым признаком Game gerne rate, но это потому, что он напрямую зависит\n",
    "# от оценки, так что это не считается."
   ]
  },
  {
   "cell_type": "code",
   "execution_count": null,
   "id": "9296c92b",
   "metadata": {},
   "outputs": [],
   "source": [
    "pd.set_option('display.max_columns', 20) # чтобы в пайчарем показывались все стобцы без ...\n",
    "pd.set_option('display.width', 2000) # чтобы в пайчарме всё было на одном экране\n",
    "print(df.describe())\n",
    "print(df.mode())"
   ]
  },
  {
   "cell_type": "code",
   "execution_count": null,
   "id": "b8e090f7",
   "metadata": {},
   "outputs": [],
   "source": [
    "# не особо оценка игры коррелирует с другими моими показателями конечно...\n",
    "print(df.corr())"
   ]
  },
  {
   "cell_type": "markdown",
   "id": "08d34ed6",
   "metadata": {},
   "source": [
    "Вывод по целевой переменной score: в среднем по всем играм на всех платформах ставится оценка 6-8\n",
    "(тк среднее ~6.99, медиана 7.3, а стд 1,68 (дисперсия 2.8)). А учитывая то,\n",
    "что 25% квантиль составил 6, это значит, что менее 25% всех оценок это оценки ниже 6.\n",
    "Думаю, из этого можно сделать вывод, что в целом портал IGN достаточно лояльное оценивает игры\n",
    "(больше всего оценок 8, тк. мода = 8) , и надо очень сильно постараться, чтобы получить у них плохую оценку.\n",
    "Все оценки расположены в диапазоне от 0.5 до 10."
   ]
  }
 ],
 "metadata": {
  "jupytext": {
   "cell_metadata_filter": "-all",
   "main_language": "python",
   "notebook_metadata_filter": "-all"
  }
 },
 "nbformat": 4,
 "nbformat_minor": 5
}
