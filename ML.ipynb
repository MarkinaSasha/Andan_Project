{
 "cells": [
  {
   "cell_type": "markdown",
   "id": "c3985ce0",
   "metadata": {},
   "source": [
    "<h1>Финальная часть - машинное обучение<h1>"
   ]
  },
  {
   "cell_type": "code",
   "execution_count": null,
   "id": "d4c7935b",
   "metadata": {},
   "outputs": [],
   "source": [
    "import numpy as np\n",
    "import pandas as pd"
   ]
  },
  {
   "cell_type": "code",
   "execution_count": 2,
   "id": "00f2ec01",
   "metadata": {},
   "outputs": [],
   "source": [
    "from scipy import stats\n",
    "from scipy.stats import chi2_contingency\n",
    "import statsmodels as sts"
   ]
  },
  {
   "cell_type": "code",
   "execution_count": 3,
   "id": "13627939",
   "metadata": {},
   "outputs": [],
   "source": [
    "from sklearn.ensemble import RandomForestClassifier, RandomForestRegressor\n",
    "from sklearn.linear_model import LinearRegression\n",
    "from sklearn.preprocessing import LabelEncoder\n",
    "from sklearn.model_selection import train_test_split\n",
    "from sklearn.metrics import mean_squared_error, mean_absolute_error, r2_score"
   ]
  },
  {
   "cell_type": "code",
   "execution_count": 4,
   "id": "880db559",
   "metadata": {},
   "outputs": [],
   "source": [
    "import seaborn as sns\n",
    "import matplotlib.pyplot as plt"
   ]
  },
  {
   "cell_type": "code",
   "execution_count": 5,
   "id": "6815fcd0",
   "metadata": {},
   "outputs": [],
   "source": [
    "import warnings"
   ]
  },
  {
   "cell_type": "code",
   "execution_count": 6,
   "id": "96228302",
   "metadata": {},
   "outputs": [],
   "source": [
    "warnings.filterwarnings(\"ignore\")"
   ]
  },
  {
   "cell_type": "markdown",
   "id": "9a8f71cd",
   "metadata": {},
   "source": [
    "Я хочу предсказать переменную score, для того чтобы выяснить, удастся ли предсказать,\n",
    "в какой комбинации жанра/платформы/даты лучше выпускать игру. Из гипотез я выяснила, что эти факторы связаны,\n",
    "а значит есть смысл это предсказывать"
   ]
  },
  {
   "cell_type": "markdown",
   "id": "78c67b85",
   "metadata": {},
   "source": [
    "Я решаю задачу регрессии, посколько у меня есть некоторый набор данных на вход, и я пытаюсь\n",
    "предсказать какое-то неизвестное значение\n",
    "(я не классифицирую, не объединяю в группы, не ранжирую и не снижаю размерность, значит это задача регрессии)"
   ]
  },
  {
   "cell_type": "markdown",
   "id": "4d981b05",
   "metadata": {},
   "source": [
    "Метрика для оценки качества модели это - . Я выбрала ее потому что"
   ]
  },
  {
   "cell_type": "markdown",
   "id": "d72dd69d",
   "metadata": {},
   "source": [
    "У меня есть проблема - это мои категориальные переменные. Жанр и Платформа.\n",
    "Их слишком много, чтобы делать бинаризацию, поэтому я решила перекодироватть их по порядку. Конечно,\n",
    "это не самый лучший метод, так как компьютер может посчитать, что я не пронумеровала,\n",
    "а проранжировала от лучшего к худшему, но другие способы, что я пробовала, у меня не запустились."
   ]
  },
  {
   "cell_type": "code",
   "execution_count": 9,
   "id": "b9e360e2",
   "metadata": {},
   "outputs": [
    {
     "name": "stdout",
     "output_type": "stream",
     "text": [
      "                                         title          platform  score  \\\n",
      "0                               Stardew Valley     PlayStation 4   10.0   \n",
      "1                               Stardew Valley          Xbox One   10.0   \n",
      "2                               Stardew Valley  PlayStation Vita   10.0   \n",
      "3                               Stardew Valley              iPad   10.0   \n",
      "4                               Stardew Valley              iPod   10.0   \n",
      "...                                        ...               ...    ...   \n",
      "21410                Tokyo Mirage Sessions #FE             Wii U    7.6   \n",
      "21411        LEGO Star Wars: The Force Awakens     PlayStation 4    9.0   \n",
      "21412  Star Ocean: Integrity and Faithlessness     PlayStation 4    5.8   \n",
      "21413                                   Inside          Xbox One   10.0   \n",
      "21414                                   Inside                PC   10.0   \n",
      "\n",
      "           genre  release_year  release_month  Game_genre_rate  \\\n",
      "0         iPhone          2023              6            1.209   \n",
      "1         iPhone          2023              6            1.209   \n",
      "2         iPhone          2023              6            1.209   \n",
      "3         iPhone          2023              6            1.209   \n",
      "4         iPhone          2023              6            1.209   \n",
      "...          ...           ...            ...              ...   \n",
      "21410        RPG          2016              6            1.006   \n",
      "21411     Action          2016              6            1.321   \n",
      "21412        RPG          2016              6            0.768   \n",
      "21413  Adventure          2016              6            1.423   \n",
      "21414  Adventure          2016              6            1.423   \n",
      "\n",
      "       Prop_of_genre_on_platf  Mean_score_per_genre  \n",
      "0                       0.002                 9.000  \n",
      "1                       0.002                 9.000  \n",
      "2                       0.006                10.000  \n",
      "3                       0.008                10.000  \n",
      "4                       0.045                10.000  \n",
      "...                       ...                   ...  \n",
      "21410                   0.058                 8.514  \n",
      "21411                   0.337                 7.350  \n",
      "21412                   0.096                 7.513  \n",
      "21413                   0.136                 7.331  \n",
      "21414                   0.118                 7.200  \n",
      "\n",
      "[21415 rows x 9 columns]\n"
     ]
    }
   ],
   "source": [
    "df = pd.read_csv('../All_data_files/total_data_set.csv')\n",
    "print(df)"
   ]
  },
  {
   "cell_type": "markdown",
   "id": "152f9df1",
   "metadata": {},
   "source": [
    "Посмотрим, насоклько целесообразно делать бинаризацию"
   ]
  },
  {
   "cell_type": "code",
   "execution_count": 10,
   "id": "714dbf3c",
   "metadata": {},
   "outputs": [
    {
     "name": "stdout",
     "output_type": "stream",
     "text": [
      "59\n",
      "76\n"
     ]
    }
   ],
   "source": [
    "print(len(df['genre'].unique()))\n",
    "print(len(df['platform'].unique()))\n",
    "# Вообще не целесообразно - это добавит около 100 новых колонок..."
   ]
  },
  {
   "cell_type": "markdown",
   "id": "7e1ad942",
   "metadata": {},
   "source": [
    "Для начала, перекодирую Жанр и Платформу по порядку"
   ]
  },
  {
   "cell_type": "code",
   "execution_count": 11,
   "id": "2a52bb73",
   "metadata": {
    "lines_to_next_cell": 2
   },
   "outputs": [
    {
     "name": "stdout",
     "output_type": "stream",
     "text": [
      "    genre          platform\n",
      "0  iPhone     PlayStation 4\n",
      "1  iPhone          Xbox One\n",
      "2  iPhone  PlayStation Vita\n",
      "3  iPhone              iPad\n",
      "4  iPhone              iPod\n",
      "   genre  platform\n",
      "0     58        44\n",
      "1     58        70\n",
      "2     58        47\n",
      "3     58        72\n",
      "4     58        75\n"
     ]
    }
   ],
   "source": [
    "print(df[['genre', 'platform']].head())\n",
    "le = LabelEncoder()\n",
    "df[\"genre\"] = le.fit_transform(df[\"genre\"])\n",
    "df[\"platform\"] = le.fit_transform(df[\"platform\"])\n",
    "df.drop('title', axis= 1, inplace=True)\n",
    "print(df[['genre', 'platform']].head())"
   ]
  },
  {
   "cell_type": "markdown",
   "id": "afe86d48",
   "metadata": {},
   "source": [
    "Отлично. Теперь я хочу первым делом релизовать модель линейной регрессии\n",
    "(тк я ищу непрерывное значение на основе набора признаков)"
   ]
  },
  {
   "cell_type": "code",
   "execution_count": 12,
   "id": "d4aa375c",
   "metadata": {},
   "outputs": [],
   "source": [
    "df_train, df_test = train_test_split(df, test_size=0.1, random_state=42)"
   ]
  },
  {
   "cell_type": "code",
   "execution_count": 13,
   "id": "e69f8ac8",
   "metadata": {},
   "outputs": [],
   "source": [
    "score_train = df_train['score'].to_numpy()\n",
    "score_test = df_test['score'].to_numpy()"
   ]
  },
  {
   "cell_type": "code",
   "execution_count": 14,
   "id": "ef5b1649",
   "metadata": {},
   "outputs": [],
   "source": [
    "no_score_train = df_train.drop('score', axis=1).to_numpy()\n",
    "no_score_test = df_test.drop('score', axis=1).to_numpy()"
   ]
  },
  {
   "cell_type": "markdown",
   "id": "0d016e64",
   "metadata": {},
   "source": [
    "Проведем для начала наивный прогноз"
   ]
  },
  {
   "cell_type": "code",
   "execution_count": 15,
   "id": "c678ba34",
   "metadata": {},
   "outputs": [],
   "source": [
    "mean = np.mean(score_train)\n",
    "pred_naive = np.ones(len(score_test)) * mean"
   ]
  },
  {
   "cell_type": "code",
   "execution_count": 16,
   "id": "4fc06682",
   "metadata": {},
   "outputs": [
    {
     "name": "stdout",
     "output_type": "stream",
     "text": [
      "MSE: 2.976713529463043\n",
      "MAE: 1.3711274336608161\n",
      "R2: -0.00022948701527281123\n",
      "\n"
     ]
    }
   ],
   "source": [
    "print(f'MSE: {mean_squared_error(score_test, pred_naive)}\\nMAE: {mean_absolute_error(score_test, pred_naive)}\\n'\n",
    "      f'R2: {r2_score(score_test, pred_naive)}\\n')"
   ]
  },
  {
   "cell_type": "markdown",
   "id": "3363bfcb",
   "metadata": {
    "lines_to_next_cell": 2
   },
   "source": [
    "Ну тут всё очевидно плохо. Это нужно скорее, чтобы убедиться, что следующие модели сработали лучше."
   ]
  },
  {
   "cell_type": "markdown",
   "id": "0c2d8bc0",
   "metadata": {},
   "source": [
    "Посмотрим, насколько лучше справится линейная регрессия"
   ]
  },
  {
   "cell_type": "code",
   "execution_count": 17,
   "id": "f70f9de0",
   "metadata": {},
   "outputs": [
    {
     "data": {
      "text/plain": [
       "LinearRegression()"
      ]
     },
     "execution_count": 17,
     "metadata": {},
     "output_type": "execute_result"
    }
   ],
   "source": [
    "model = LinearRegression()\n",
    "model.fit(no_score_train, score_train)"
   ]
  },
  {
   "cell_type": "code",
   "execution_count": 18,
   "id": "76b01145",
   "metadata": {},
   "outputs": [],
   "source": [
    "pred_lr = model.predict(no_score_test)"
   ]
  },
  {
   "cell_type": "code",
   "execution_count": 19,
   "id": "64958b30",
   "metadata": {},
   "outputs": [
    {
     "name": "stdout",
     "output_type": "stream",
     "text": [
      "MSE: 0.05723591205394583\n",
      "MAE: 0.15902725101312276\n",
      "R2: 0.9807677002217622\n",
      "\n"
     ]
    }
   ],
   "source": [
    "print(f'MSE: {mean_squared_error(score_test, pred_lr)}\\nMAE: {mean_absolute_error(score_test, pred_lr)}\\n'\n",
    "      f'R2: {r2_score(score_test, pred_lr)}\\n')"
   ]
  },
  {
   "cell_type": "markdown",
   "id": "a4e87df7",
   "metadata": {
    "lines_to_next_cell": 2
   },
   "source": [
    "Судя по показателям моих моделей, модель Линейной Регрессии (очевидно) справилась намного лучше.\n",
    "Чем ниже MSE и MAE, тем лучше. R2 измеряет, насколько хорошо модель объясняет вариацию зависимой переменной,\n",
    "а значит при значени 0.97 модель объясняет почти всю вариацию зависимой переменной. Это хорошо."
   ]
  },
  {
   "cell_type": "markdown",
   "id": "9f5d07a4",
   "metadata": {},
   "source": [
    "Я посмотрела в интернете, какие еще модели мне могут подойти, и увидела модель Случайный лес. С такой мы на парах\n",
    "не работали, но мне захотелось попробовать.\n",
    "Мне понравилось, что ее описали, как модель, устойчивую к выбросам, очень точную и умеющую работать с нелинейными\n",
    "зависимостями (еще и название смешное).\n",
    "Думаю, мне подходит, буду пробовать."
   ]
  },
  {
   "cell_type": "code",
   "execution_count": 20,
   "id": "7824610d",
   "metadata": {
    "lines_to_next_cell": 2
   },
   "outputs": [
    {
     "name": "stdout",
     "output_type": "stream",
     "text": [
      "MSE: 0.010810704248366117\n",
      "MAE: 0.030755835667606864\n",
      "R2: 0.9963674081978028\n",
      "\n"
     ]
    }
   ],
   "source": [
    "# Попробую на разном количестве деревьев, чтобы найти оптимальное\n",
    "rf = RandomForestRegressor(n_estimators=800, random_state=42)\n",
    "rf.fit(no_score_train, score_train)\n",
    "pred_rf = rf.predict(no_score_test)\n",
    "print(f'MSE: {mean_squared_error(score_test, pred_rf)}\\nMAE: {mean_absolute_error(score_test, pred_rf)}\\n'\n",
    "      f'R2: {r2_score(score_test, pred_rf)}\\n')"
   ]
  },
  {
   "cell_type": "code",
   "execution_count": 21,
   "id": "239c159a",
   "metadata": {},
   "outputs": [
    {
     "name": "stdout",
     "output_type": "stream",
     "text": [
      "800\n",
      "MSE: 0.010810704248366117\n",
      "MAE: 0.030755835667606864\n",
      "R2: 0.9963674081978028\n",
      "\n",
      "900\n",
      "MSE: 0.010825914289172591\n",
      "MAE: 0.030794221392268582\n",
      "R2: 0.9963622973494921\n",
      "\n",
      "1000\n",
      "MSE: 0.010819014645191563\n",
      "MAE: 0.030812651727365428\n",
      "R2: 0.9963646157544348\n",
      "\n",
      "1100\n",
      "MSE: 0.010804546176046417\n",
      "MAE: 0.03080056871234019\n",
      "R2: 0.996369477421279\n",
      "\n",
      "1200\n",
      "MSE: 0.01079608397525707\n",
      "MAE: 0.030791549953322315\n",
      "R2: 0.9963723208735195\n",
      "\n",
      "1300\n",
      "MSE: 0.010787259396461092\n",
      "MAE: 0.030730912877979872\n",
      "R2: 0.9963752860913125\n",
      "\n",
      "1400\n",
      "MSE: 0.010790020858343703\n",
      "MAE: 0.030722789115656384\n",
      "R2: 0.996374358190265\n",
      "\n",
      "1500\n",
      "MSE: 0.010782253171491209\n",
      "MAE: 0.03070177404296148\n",
      "R2: 0.9963769682732839\n",
      "\n",
      "1600\n",
      "MSE: 0.010796660969596592\n",
      "MAE: 0.030720413165278192\n",
      "R2: 0.9963721269930045\n",
      "\n",
      "1700\n",
      "MSE: 0.010778736021052447\n",
      "MAE: 0.030719530949647706\n",
      "R2: 0.9963781500993295\n",
      "\n",
      "1800\n",
      "MSE: 0.010778277093348053\n",
      "MAE: 0.0307322595705085\n",
      "R2: 0.9963783043073235\n",
      "\n",
      "1900\n",
      "MSE: 0.010784997364412475\n",
      "MAE: 0.030748488869247075\n",
      "R2: 0.9963760461749191\n",
      "\n"
     ]
    }
   ],
   "source": [
    "for tree in range(800, 2000, 100):\n",
    "    print(tree)\n",
    "    rf1 = RandomForestRegressor(n_estimators=tree, random_state=42)\n",
    "    rf1.fit(no_score_train, score_train)\n",
    "    pred_rf1 = rf1.predict(no_score_test)\n",
    "    print(f'MSE: {mean_squared_error(score_test, pred_rf1)}\\nMAE: {mean_absolute_error(score_test, pred_rf1)}\\n'\n",
    "          f'R2: {r2_score(score_test, pred_rf1)}\\n')"
   ]
  },
  {
   "cell_type": "markdown",
   "id": "6961d9c5",
   "metadata": {},
   "source": [
    "Наилучшие результаты получились для количества деревьев 1800."
   ]
  },
  {
   "cell_type": "code",
   "execution_count": 22,
   "id": "f85e0e21",
   "metadata": {
    "lines_to_next_cell": 2
   },
   "outputs": [
    {
     "name": "stdout",
     "output_type": "stream",
     "text": [
      "MSE: 0.010778277093348053\n",
      "MAE: 0.0307322595705085\n",
      "R2: 0.9963783043073235\n",
      "\n"
     ]
    }
   ],
   "source": [
    "rf1 = RandomForestRegressor(n_estimators=1800, random_state=42)\n",
    "rf1.fit(no_score_train, score_train)\n",
    "pred_rf1 = rf1.predict(no_score_test)\n",
    "print(f'MSE: {mean_squared_error(score_test, pred_rf1)}\\nMAE: {mean_absolute_error(score_test, pred_rf1)}\\n'\n",
    "      f'R2: {r2_score(score_test, pred_rf1)}\\n')"
   ]
  },
  {
   "cell_type": "markdown",
   "id": "28d9f413",
   "metadata": {},
   "source": [
    "такие значения MAE MSE говорят о том, что модель делает очень точные предсказания\n",
    "R2 говорит о том, что модель объясняет 99,44% вариации целевой переменной.\n",
    "Это говорит о том, что модель очень хорошо подходит для моих данных и делает очень точные предсказания."
   ]
  },
  {
   "cell_type": "markdown",
   "id": "2d24a70a",
   "metadata": {},
   "source": [
    "Это наилучший результат."
   ]
  },
  {
   "cell_type": "markdown",
   "id": "b62f47dc",
   "metadata": {},
   "source": [
    "<h1>На этом мой проект подошел к концу. Спасибо за просмотр моей работы <h1>"
   ]
  }
 ],
 "metadata": {
  "jupytext": {
   "cell_metadata_filter": "-all",
   "main_language": "python",
   "notebook_metadata_filter": "-all"
  },
  "kernelspec": {
   "display_name": "Python 3 (ipykernel)",
   "language": "python",
   "name": "python3"
  },
  "language_info": {
   "codemirror_mode": {
    "name": "ipython",
    "version": 3
   },
   "file_extension": ".py",
   "mimetype": "text/x-python",
   "name": "python",
   "nbconvert_exporter": "python",
   "pygments_lexer": "ipython3",
   "version": "3.9.13"
  }
 },
 "nbformat": 4,
 "nbformat_minor": 5
}
